{
 "cells": [
  {
   "cell_type": "code",
   "execution_count": null,
   "id": "e155d125-4591-465c-b419-af65d871221d",
   "metadata": {},
   "outputs": [],
   "source": [
    "import requests\n",
    "from bs4 import BeautifulSoup\n",
    "import pandas as pd\n",
    "import re"
   ]
  },
  {
   "cell_type": "code",
   "execution_count": null,
   "id": "4307f307-f329-4766-bd77-10af0d29018d",
   "metadata": {},
   "outputs": [],
   "source": [
    "df = pd.read_csv('explored_existed_audible.csv')"
   ]
  },
  {
   "cell_type": "code",
   "execution_count": null,
   "id": "c0928119-f857-4aff-930f-6d67d8cffb69",
   "metadata": {},
   "outputs": [],
   "source": [
    "df = df.reset_index(drop=True)"
   ]
  },
  {
   "cell_type": "code",
   "execution_count": null,
   "id": "d7781c95-eb10-4e16-93ef-1a055ce46d39",
   "metadata": {},
   "outputs": [],
   "source": [
    "df.drop(columns='Unnamed: 0')"
   ]
  },
  {
   "cell_type": "code",
   "execution_count": null,
   "id": "6c3ba0a2-f7e6-452e-895c-dc019b48f073",
   "metadata": {},
   "outputs": [],
   "source": [
    "df_100 = df.head(100)"
   ]
  },
  {
   "cell_type": "markdown",
   "id": "18ddabda-1d47-4777-89c3-56719e918262",
   "metadata": {},
   "source": [
    "## Get original date"
   ]
  },
  {
   "cell_type": "code",
   "execution_count": null,
   "id": "c87e4f40-d137-4007-8d76-9e416f464fec",
   "metadata": {},
   "outputs": [],
   "source": [
    "def get_original_publication_date(book_name, author_name):\n",
    "    # Create a search URL for Goodreads\n",
    "    base_url = \"https://www.goodreads.com/search?utf8=%E2%9C%93&search_type=books&search%5Bfield%5D=on&q=\"\n",
    "    search_url = base_url + book_name.replace(\" \", \"+\")\n",
    "    \n",
    "    # Fetch the search results page\n",
    "    response = requests.get(search_url)\n",
    "    soup = BeautifulSoup(response.content, 'html.parser')\n",
    "    \n",
    "    # Find all book titles\n",
    "    book_entries = soup.select('.tableList .bookTitle')\n",
    "    \n",
    "    for entry in book_entries:\n",
    "        book_title = entry.get_text(strip=True)\n",
    "        if book_name in book_title:\n",
    "            book_data = entry.find_parent('tr')\n",
    "            author = book_data.select_one('.authorName').get_text(strip=True)\n",
    "            if author_name in author:\n",
    "                details = book_data.select_one('.greyText').get_text(strip=True)\n",
    "                details_split = details.split(\"—\")\n",
    "                try:\n",
    "                    if len(details_split) > 2:\n",
    "                        pub_year = details_split[2].strip().split()[1] #get publication date text\n",
    "                        return pub_year\n",
    "                except IndexError:\n",
    "                    # Handle the error or log it\n",
    "                    print(f\"Error processing publication date for {book_name} by {author_name}\")\n",
    "                    return None\n",
    "                \n",
    "    return None\n"
   ]
  },
  {
   "cell_type": "code",
   "execution_count": null,
   "id": "e9de17af-97a8-4109-8a66-7cad01d280c5",
   "metadata": {},
   "outputs": [],
   "source": [
    "df_100.loc[:, 'original_publication_date'] = None\n",
    "\n",
    "#iterate through each row and fetch the original publication date\n",
    "for index, row in df_100.iterrows():\n",
    "    title = row['title']\n",
    "    author = row['author']\n",
    "    original_publication_date = get_original_publication_date(title, author)\n",
    "    \n",
    "    # Update the original_publication_date column in the dataframe\n",
    "    df_100.at[index, 'original_publication_date'] = original_publication_date"
   ]
  },
  {
   "cell_type": "code",
   "execution_count": null,
   "id": "02f4b147-7c36-4cf9-a26f-10edd52a4284",
   "metadata": {},
   "outputs": [],
   "source": [
    "df_100"
   ]
  },
  {
   "cell_type": "markdown",
   "id": "d8d4bfd5-3ccd-471b-b16b-560b28f0c0f4",
   "metadata": {},
   "source": [
    "## Get author url"
   ]
  },
  {
   "cell_type": "code",
   "execution_count": null,
   "id": "2113c4ee-2486-4082-b226-af9bb6f3966c",
   "metadata": {},
   "outputs": [],
   "source": [
    "def get_author_url(book_name, author_name):\n",
    "    # Create a search URL for Goodreads\n",
    "    base_url = \"https://www.goodreads.com/search?utf8=%E2%9C%93&search_type=books&search%5Bfield%5D=on&q=\"\n",
    "    search_url = base_url + book_name.replace(\" \", \"+\")\n",
    "    \n",
    "    # Fetch the search results page\n",
    "    response = requests.get(search_url)\n",
    "    soup = BeautifulSoup(response.content, 'html.parser')\n",
    "    \n",
    "    # Find all book titles\n",
    "    book_entries = soup.select('.tableList .bookTitle')\n",
    "    \n",
    "    for entry in book_entries:\n",
    "        book_title = entry.get_text(strip=True)\n",
    "        if book_name in book_title:\n",
    "            book_data = entry.find_parent('tr')\n",
    "            author_tag = book_data.select_one('.authorName')\n",
    "            author = author_tag.get_text(strip=True)\n",
    "            if author_name in author:\n",
    "                author_url = author_tag['href']\n",
    "                return author_url\n",
    "\n",
    "    return None"
   ]
  },
  {
   "cell_type": "code",
   "execution_count": null,
   "id": "ba5bdd9e-2076-4bac-a251-624125087ebb",
   "metadata": {},
   "outputs": [],
   "source": [
    "df_100.loc[:, 'author_url'] = None\n",
    "\n",
    "#iterate through each row and fetch the author url\n",
    "for index, row in df_100.iterrows():\n",
    "    title = row['title']\n",
    "    author = row['author']\n",
    "    author_url = get_author_url(title, author)\n",
    "    \n",
    "    # Update the author_url in the dataframe\n",
    "    df_100.at[index, 'author_url'] = author_url"
   ]
  },
  {
   "cell_type": "code",
   "execution_count": null,
   "id": "12558054-4aba-4957-b7da-c565492b9747",
   "metadata": {},
   "outputs": [],
   "source": [
    "df_100"
   ]
  }
 ],
 "metadata": {
  "kernelspec": {
   "display_name": "Python 3 (ipykernel)",
   "language": "python",
   "name": "python3"
  },
  "language_info": {
   "codemirror_mode": {
    "name": "ipython",
    "version": 3
   },
   "file_extension": ".py",
   "mimetype": "text/x-python",
   "name": "python",
   "nbconvert_exporter": "python",
   "pygments_lexer": "ipython3",
   "version": "3.9.12"
  }
 },
 "nbformat": 4,
 "nbformat_minor": 5
}
