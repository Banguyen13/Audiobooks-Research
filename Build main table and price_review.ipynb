{
 "cells": [
  {
   "cell_type": "code",
   "execution_count": 2,
   "metadata": {},
   "outputs": [],
   "source": [
    "import requests\n",
    "import json\n",
    "import datetime \n",
    "from datetime import date\n",
    "import pandas"
   ]
  },
  {
   "cell_type": "code",
   "execution_count": 3,
   "metadata": {},
   "outputs": [],
   "source": [
    "def buildURL(resource_path, host=\"httpbin.org\", protocol=\"https\", \n",
    "             extension=None, port=None):\n",
    "    if resource_path[0] != '/':\n",
    "        resource_path = '/' + resource_path\n",
    "    \n",
    "    if extension != None:\n",
    "        resource_path += \".\" + extension\n",
    "        \n",
    "    if port != None:\n",
    "        host = host + \":{}\".format(port)\n",
    "    \n",
    "    url_template = \"{}://{}{}\"\n",
    "    url = url_template.format(protocol, host, resource_path)\n",
    "    return url"
   ]
  },
  {
   "cell_type": "code",
   "execution_count": 4,
   "metadata": {},
   "outputs": [],
   "source": [
    "def get_json_object(asin):\n",
    "    host=\"api.audible.com\"\n",
    "    main_path=f\"1.0/catalog/products/{asin}\"\n",
    "    # Builf url for request\n",
    "    url=buildURL(main_path,host,protocol=\"https\")\n",
    "\n",
    "    # Build query_params to get all variables in the main table\n",
    "    query_params={\"response_groups\":\"contributors,media,product_details,rights,product_attrs,product_extended_attrs,series,sample\"}\n",
    "    try:\n",
    "        response=requests.get(url,params=query_params)\n",
    "        assert response.status_code==200\n",
    "    except:\n",
    "        print(f\"Failed: {main_path} with status code {response.status_code}\")\n",
    "    json_text=json.loads(response.text)[\"product\"] \n",
    "    return json_text"
   ]
  },
  {
   "cell_type": "code",
   "execution_count": 5,
   "metadata": {},
   "outputs": [],
   "source": [
    "def get_today_date():\n",
    "    return date.today().strftime(\"%d/%m/%Y\")"
   ]
  },
  {
   "cell_type": "code",
   "execution_count": 6,
   "metadata": {},
   "outputs": [],
   "source": [
    "def input_manually(dictionary,key,value):\n",
    "    dictionary[key]=value\n",
    "    return dictionary"
   ]
  },
  {
   "cell_type": "code",
   "execution_count": 7,
   "metadata": {},
   "outputs": [],
   "source": [
    "def get_pd_uri(json_object):\n",
    "    try:\n",
    "        asin=json_object[\"asin\"]\n",
    "        uri=requests.get(f\"https://www.audible.com/pd/{asin}\",allow_redirects=True).url\n",
    "    except:\n",
    "        uri=\"\"\n",
    "    return uri\n"
   ]
  },
  {
   "cell_type": "code",
   "execution_count": 8,
   "metadata": {},
   "outputs": [],
   "source": [
    "def get_series_uri(json_object):\n",
    "    try:\n",
    "        series_endpoint=json_object[\"series\"][0][\"url\"][3:]\n",
    "        series_uri=requests.get(f\"https://www.audible.com/series{series_endpoint}\",allow_redirects=True).url\n",
    "    except:\n",
    "        series_uri=\"\"\n",
    "    return series_uri"
   ]
  },
  {
   "cell_type": "code",
   "execution_count": 9,
   "metadata": {},
   "outputs": [],
   "source": [
    "def get_publisher_uri(json_object):\n",
    "    try:\n",
    "        publisher_name=json_object[\"publisher_name\"]\n",
    "        publisher_uri=requests.get(f\"https://www.audible.com/search?searchProvider={publisher_name}\",allow_redirects=True).url\n",
    "    except:\n",
    "        publisher_uri=\"\"\n",
    "    return publisher_uri"
   ]
  },
  {
   "cell_type": "code",
   "execution_count": 10,
   "metadata": {},
   "outputs": [],
   "source": [
    "def get_author_uri(json_object):\n",
    "    try:\n",
    "        author_asin=json_object[\"author\"][0][\"asin\"]\n",
    "        author_uri=requests.get(f\"https://www.audible.com/author/{author_asin}\",allow_redirects=True).url\n",
    "    except:\n",
    "        author_uri=\"\"\n",
    "    return author_uri"
   ]
  },
  {
   "cell_type": "code",
   "execution_count": 13,
   "metadata": {},
   "outputs": [],
   "source": [
    "def build_dict(my_dict,key,response,response_key):\n",
    "    if len(response_key)==1:\n",
    "        try:\n",
    "            my_dict[key]=response[response_key[0]]\n",
    "        except:\n",
    "            my_dict[key]=\"\"\n",
    "    else:\n",
    "        i=0\n",
    "        try:\n",
    "            while i<len(response_key):\n",
    "                response=response[response_key[i]]\n",
    "                i+=1\n",
    "            my_dict[key]=response\n",
    "        except:\n",
    "            my_dict[key]=\"\"\n",
    "    return my_dict\n",
    "## Functions to scrape data in the Main table\n",
    "def main_table(asin):\n",
    "    json_text=get_json_object(asin)\n",
    "    L_all=[]\n",
    "    D_main={}\n",
    "    D_author={}\n",
    "    D_narrator={}\n",
    "    # List of variables that can be used with helper function try_except\n",
    "    variables=[\"asin\",\"publisher_name\",\"sku\",\"sku_lite\",\"title\",'subtitle',\"language\",\"content_delivery_type\",\"content_type\",\"format_type\",\"has_children\",\"is_adult_product\",\n",
    "    \"is_listenable\",\"is_purchasability_suppressed\",\"is_vvab\",\"merchandising_summary\",\"release_date\",\"runtime_length_min\",\"copyright\",\"extended_product_description\",\"is_pdf_url_available\",\"merchandising_description\",\"platinum_keywords\",\n",
    "    \"product_site_launch_date\",\"read_along_support\",\"is_world_rights\",\"issue_date\",\"publisher_summary\"]\n",
    "    ## For loop for all the variables\n",
    "    for var in variables:\n",
    "        build_dict(D_main,var,json_text,[var])\n",
    "    D_main[\"uri\"]=get_pd_uri(json_text)\n",
    "    build_dict(D_main,\"series_name\",json_text,[\"series\",0,\"title\"])\n",
    "    D_main[\"series_uri\"]=get_series_uri(json_text)\n",
    "    D_main[\"publisher_uri\"]=get_publisher_uri(json_text)\n",
    "    ## author dictionary\n",
    "    build_dict(D_author,\"author\",json_text,[\"authors\",0,\"name\"])\n",
    "    build_dict(D_author,\"asin\",json_text,[\"authors\",0,\"asin\"])\n",
    "    D_author[\"uri\"]=get_author_uri(json_text)\n",
    "    build_dict(D_narrator,\"name\",json_text,[\"narrator\",0,\"name\"])\n",
    "    L_all.append(D_main) \n",
    "    L_all.append(D_author)\n",
    "    L_all.append(D_narrator)\n",
    "    return L_all\n"
   ]
  },
  {
   "cell_type": "markdown",
   "metadata": {},
   "source": [
    "----\n",
    "\n",
    "# Authors & Narrators"
   ]
  },
  {
   "cell_type": "code",
   "execution_count": 20,
   "metadata": {},
   "outputs": [],
   "source": [
    "def get_rating_object(asin):\n",
    "    host=\"api.audible.com\"\n",
    "    main_path=f\"1.0/catalog/products/{asin}\"\n",
    "    # Builf url for request\n",
    "    url=buildURL(main_path,host,protocol=\"https\")\n",
    "\n",
    "    # Build query_params to get all variables in the main table\n",
    "    query_params={\"response_groups\":\"rating,price\"}\n",
    "    try:\n",
    "        response=requests.get(url,params=query_params)\n",
    "        assert response.status_code==200\n",
    "    except:\n",
    "        print(f\"Failed: {main_path} with status code {response.status_code}\")\n",
    "    json_text=json.loads(response.text)[\"product\"] \n",
    "    return json_text"
   ]
  },
  {
   "cell_type": "code",
   "execution_count": 23,
   "metadata": {},
   "outputs": [],
   "source": [
    "def price_reviews(asin):\n",
    "    Pr_Revs={}\n",
    "    json_text=get_rating_object(asin)\n",
    "    build_dict(Pr_Revs,\"date_scraped_price\",json_text,[\"price\",\"list_price\",\"base\"])\n",
    "    build_dict(Pr_Revs,\"price_unit\",json_text,[\"price\",\"list_price\",\"currency_code\"])\n",
    "    build_dict(Pr_Revs,\"num_reviews\",json_text,[\"rating\",\"num_reviews\"])\n",
    "    vars=[\"average_rating\",\"display_average_rating\",'display_stars','num_five_star_ratings',\n",
    "    'num_four_star_ratings','num_three_star_ratings','num_two_star_ratings','num_one_star_ratings','num_ratings']\n",
    "    for var in vars:\n",
    "        build_dict(Pr_Revs,'overall_'+var,json_text,[\"rating\",\"overall_distribution\",var])\n",
    "        build_dict(Pr_Revs,'performance_'+var,json_text,[\"rating\",\"performance_distribution\",var])\n",
    "        build_dict(Pr_Revs,'story_'+var,json_text,[\"rating\",\"story_distribution\",var])\n",
    "    return Pr_Revs"
   ]
  },
  {
   "cell_type": "code",
   "execution_count": 25,
   "metadata": {},
   "outputs": [],
   "source": [
    "## Count number of reviews\n",
    "def review(asin,p):\n",
    "    host=\"api.audible.com\"\n",
    "    main_path=\"1.0/catalog/products/{0}/reviews\"\n",
    "    # Author count, narrator count, author asin\n",
    "    url=buildURL(main_path.format(asin),host,protocol=\"https\")\n",
    "\n",
    "    # Get author_count, narrator_count, publisher_name, sku, sku_lite\n",
    "    query_params={\"num_results\":50,'page':p}\n",
    "    rev=requests.get(url,params=query_params)\n",
    "    return json.loads(rev.text)[\"customer_reviews\"]\n",
    "\n",
    "def count_review(asin):\n",
    "    i=1\n",
    "    while len(review(asin,i))==50:\n",
    "        i+=1\n",
    "    else:\n",
    "        return i, len(review(asin,i))\n",
    "    \n",
    "def all_review(asin):\n",
    "    all=[]\n",
    "    num_page=count_review(asin)[0]\n",
    "    last_page=count_review(asin)[1]\n",
    "    for i in range(1,num_page+1):\n",
    "        all.extend(review(asin,i))\n",
    "    return all"
   ]
  }
 ],
 "metadata": {
  "kernelspec": {
   "display_name": "Python 3",
   "language": "python",
   "name": "python3"
  },
  "language_info": {
   "codemirror_mode": {
    "name": "ipython",
    "version": 3
   },
   "file_extension": ".py",
   "mimetype": "text/x-python",
   "name": "python",
   "nbconvert_exporter": "python",
   "pygments_lexer": "ipython3",
   "version": "3.10.8"
  }
 },
 "nbformat": 4,
 "nbformat_minor": 4
}
